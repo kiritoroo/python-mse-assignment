{
 "cells": [
  {
   "cell_type": "markdown",
   "metadata": {},
   "source": [
    "Example 3"
   ]
  }
 ],
 "metadata": {
  "kernelspec": {
   "display_name": "Python 3.10.8 64-bit (microsoft store)",
   "language": "python",
   "name": "python3"
  },
  "language_info": {
   "name": "python",
   "version": "3.10.8"
  },
  "orig_nbformat": 4,
  "vscode": {
   "interpreter": {
    "hash": "0f9ad1cd3133ab49395ff089aeb58c2d7c1734a1f6edc23393c2b16fa1eb1ac2"
   }
  }
 },
 "nbformat": 4,
 "nbformat_minor": 2
}
